{
 "cells": [
  {
   "cell_type": "code",
   "execution_count": 1,
   "metadata": {},
   "outputs": [],
   "source": [
    "import itertools\n",
    "\n",
    "import numpy as np\n",
    "from dendropy import Tree,  DnaCharacterMatrix\n",
    "from dendropy.simulate import treesim\n",
    "from beaglepy import *\n",
    "from beaglepy.utils import print_resource_list, print_flags\n",
    "\n",
    "\n",
    "\n",
    "# eigen decomposition for the JC69 model\n",
    "evec = np.array([\n",
    "1.0, 2.0, 0.0, 0.5, 1.0, -2.0, 0.5, 0.0, 1.0, 2.0, 0.0, -0.5, 1.0, -2.0, -0.5, 0.0\n",
    "])\n",
    "\n",
    "ivec = np.array([\n",
    "0.25, 0.25, 0.25, 0.25, 0.125, -0.125, 0.125, -0.125, 0.0, 1.0, 0.0,\n",
    "-1.0, 1.0, 0.0, -1.0, 0.0\n",
    "])\n",
    "\n",
    "evalues = np.array(\n",
    "[0.0, -1.3333333333333333, -1.3333333333333333, -1.3333333333333333])\n",
    "\n",
    "freqs = np.full((4,), 0.25)\n",
    "\n",
    "\n",
    "def simulate(tree, seq_len, alphabet='ACTG'):\n",
    "    edge_lengths = np.empty(len(tree.taxon_namespace) * 2 - 2)\n",
    "    for node in tree.postorder_node_iter():\n",
    "        if node != tree.seed_node:\n",
    "            edge_lengths[node.index] = node.edge_length\n",
    "    edge_lengths /= np.sum(edge_lengths)\n",
    "\n",
    "    mats = JC69_p_t(np.expand_dims(edge_lengths, axis=1))\n",
    "    \n",
    "    alignment = [None] *(len(tree.taxon_namespace)*2-1)\n",
    "    alignment[tree.seed_node.index] = np.random.choice(np.arange(4), seq_len, p=freqs)\n",
    "    for node in tree.preorder_node_iter():\n",
    "        if node != tree.seed_node:\n",
    "            node.edge_length = edge_lengths[node.index]\n",
    "            sequence = []\n",
    "            for i in range(seq_len):\n",
    "                probs = mats[node.index][alignment[node.parent_node.index][i],]\n",
    "                sequence.append(np.random.choice(np.arange(len(alphabet)), 1, p=probs))\n",
    "            alignment[node.index] = np.concatenate(sequence)\n",
    "    alignment = {taxon.label: ''.join(list(map(lambda x: alphabet[x], seq))) for taxon, seq in zip(tree.taxon_namespace, alignment[:len(tree.taxon_namespace)])}\n",
    "    return alignment\n",
    "\n",
    "    \n",
    "def JC69_p_t(d):\n",
    "    return evec.reshape((4, 4)) @ (np.expand_dims(np.exp(evalues*d), axis=-1)*np.eye(4)) @ ivec.reshape((4, 4))"
   ]
  },
  {
   "cell_type": "code",
   "execution_count": 2,
   "metadata": {},
   "outputs": [],
   "source": [
    "tree = treesim.birth_death_tree(birth_rate=1.0, death_rate=0.5, num_extant_tips=100)\n",
    "\n",
    "s = len(tree.taxon_namespace)\n",
    "\n",
    "postorder_indices = []\n",
    "edge_lengths = np.empty(len(tree.taxon_namespace) * 2 - 2)\n",
    "for node in tree.postorder_node_iter():\n",
    "    if not node.is_leaf():\n",
    "        node.index = s\n",
    "        s += 1\n",
    "        children = node.child_nodes()\n",
    "        postorder_indices.append((node.index, children[0].index, children[1].index))\n",
    "    else:\n",
    "        node.index = tree.taxon_namespace.accession_index(node.taxon)\n",
    "    node.annotations.add_bound_attribute(\"index\")\n",
    "    if node != tree.seed_node:\n",
    "        edge_lengths[node.index] = node.edge_length\n",
    "\n",
    "seq_length = 1000\n",
    "sequences = simulate(tree, seq_length)\n",
    "alignment = DnaCharacterMatrix.from_dict(sequences)"
   ]
  },
  {
   "cell_type": "code",
   "execution_count": 3,
   "metadata": {},
   "outputs": [],
   "source": [
    "dna_map = {\n",
    "    \"A\": [1.0, 0.0, 0.0, 0.0],\n",
    "    \"C\": [0.0, 1.0, 0.0, 0.0],\n",
    "    \"G\": [0.0, 0.0, 1.0, 0.0],\n",
    "    \"T\": [0.0, 0.0, 0.0, 1.0],\n",
    "}\n",
    "\n",
    "weights = np.ones(seq_length)\n",
    "partials = np.empty((len(alignment)*2 - 1, 4, seq_length))\n",
    "partials_beagle = []\n",
    "\n",
    "for idx, seq in enumerate(sequences.values()):\n",
    "    partial = [dna_map[nuc] for nuc in seq]\n",
    "    partials_beagle.append(list(itertools.chain.from_iterable(partial)))\n",
    "    partials[idx,] = np.transpose(np.array(partial))"
   ]
  },
  {
   "cell_type": "code",
   "execution_count": 4,
   "metadata": {},
   "outputs": [
    {
     "name": "stdout",
     "output_type": "stream",
     "text": [
      "CPU times: user 5.17 ms, sys: 2.69 ms, total: 7.86 ms\n",
      "Wall time: 6.26 ms\n"
     ]
    }
   ],
   "source": [
    "%%time\n",
    "bls = np.expand_dims(edge_lengths, axis=1)\n",
    "mats = JC69_p_t(bls)\n",
    "\n",
    "for node, left, right in postorder_indices:\n",
    "    partials[node] = np.matmul(mats[left], partials[left]) * np.matmul(mats[right], partials[right])\n",
    "log_prob_numpy = np.sum(np.log(np.matmul(freqs, partials[postorder_indices[-1][0]])) * weights)"
   ]
  },
  {
   "cell_type": "code",
   "execution_count": 5,
   "metadata": {},
   "outputs": [
    {
     "name": "stdout",
     "output_type": "stream",
     "text": [
      "-89307.32684001184\n"
     ]
    }
   ],
   "source": [
    "print(log_prob_numpy)"
   ]
  },
  {
   "cell_type": "code",
   "execution_count": 6,
   "metadata": {
    "pycharm": {
     "name": "#%%\n"
    }
   },
   "outputs": [
    {
     "name": "stdout",
     "output_type": "stream",
     "text": [
      "Available resources:\n",
      "\tResource 0:\n",
      "\t\tName : CPU\n",
      "\t\tDesc : \n",
      "\t\tFlags: PROCESSOR_CPU PRECISION_DOUBLE PRECISION_SINGLE COMPUTATION_SYNCH EIGEN_REAL EIGEN_COMPLEX SCALING_MANUAL SCALING_AUTO SCALING_ALWAYS SCALING_DYNAMIC SCALERS_RAW SCALERS_LOG VECTOR_NONE VECTOR_SSE THREADING_NONE FRAMEWORK_CPU\n",
      "\n"
     ]
    }
   ],
   "source": [
    "print_resource_list()"
   ]
  },
  {
   "cell_type": "code",
   "execution_count": 7,
   "metadata": {
    "pycharm": {
     "name": "#%%\n"
    }
   },
   "outputs": [
    {
     "name": "stdout",
     "output_type": "stream",
     "text": [
      "Using resource 0:\n",
      "\tRsrc Name : CPU\n",
      "\tImpl Name : CPU-4State-SSE-Double\n",
      "\tImpl Desc : none\n",
      "\tFlags: PROCESSOR_CPU PRECISION_DOUBLE COMPUTATION_SYNCH EIGEN_REAL SCALING_MANUAL SCALERS_RAW VECTOR_SSE THREADING_NONE FRAMEWORK_CPU"
     ]
    }
   ],
   "source": [
    "sequence_count = len(alignment)\n",
    "buffer_count = 2 * sequence_count - 1\n",
    "matrix_count = 2 * sequence_count - 2\n",
    "scale_count = 0\n",
    "\n",
    "# create an instance of the BEAGLE library\n",
    "instance, instance_details = create_instance(\n",
    "    sequence_count,  # Number of tip data elements (input)\n",
    "    buffer_count,  # Number of partials buffers to create (input)\n",
    "    0,  # Number of compact state representation buffers to create (input)\n",
    "    4,  # Number of states in the continuous-time Markov chain (input)\n",
    "    seq_length,  # Number of site patterns to be handled by the instance (input)\n",
    "    1,  # Number of rate matrix eigen-decomposition buffers to allocate (input)\n",
    "    matrix_count,  # Number of rate matrix buffers (input)\n",
    "    1,  # Number of rate categories (input)\n",
    "    scale_count,  # Number of scaling buffers\n",
    "    None,  # List of potential resource on which this instance is allowed (input, NULL implies no restriction\n",
    "    0,  # Bit-flags indicating preferred implementation charactertistics, see BeagleFlags (input)\n",
    "    0,  # Bit-flags indicating required implementation characteristics, see BeagleFlags (input)\n",
    ")\n",
    "\n",
    "if instance < 0:\n",
    "    print('Failed to obtain BEAGLE instance')\n",
    "else:\n",
    "    print(\"Using resource {}:\".format(instance_details.resource_number))\n",
    "    print(\"\\tRsrc Name : {}\".format(instance_details.resource_name))\n",
    "    print(\"\\tImpl Name : {}\".format(instance_details.impl_name))\n",
    "    print(\"\\tImpl Desc : {}\".format(instance_details.impl_description))\n",
    "    print(\"\\tFlags:\", end='')\n",
    "    print_flags(instance_details.flags)"
   ]
  },
  {
   "cell_type": "code",
   "execution_count": 8,
   "metadata": {},
   "outputs": [],
   "source": [
    "for idx, partial in enumerate(partials_beagle):\n",
    "    set_tip_partials(instance, idx, partial)\n",
    "\n",
    "set_eigen_decomposition(instance, 0, evec, ivec, evalues)\n",
    "set_state_frequencies(instance, 0, freqs)\n",
    "set_category_weights(instance, 0, np.array([1.0]))\n",
    "set_pattern_weights(instance, weights)\n",
    "_ = set_category_rates(instance, [1.0])"
   ]
  },
  {
   "cell_type": "code",
   "execution_count": 9,
   "metadata": {},
   "outputs": [
    {
     "name": "stdout",
     "output_type": "stream",
     "text": [
      "CPU times: user 1.51 ms, sys: 948 µs, total: 2.46 ms\n",
      "Wall time: 2.58 ms\n"
     ]
    }
   ],
   "source": [
    "%%time\n",
    "update_transition_matrices(\n",
    "            instance,  # instance\n",
    "            0,  # eigenIndex\n",
    "            list(range(matrix_count)),  # probabilityIndices\n",
    "            None,  # firstDerivativeIndices\n",
    "            None,  # secondDerivativeIndices\n",
    "            edge_lengths)  # edgeLengths\n",
    "\n",
    "operations = []\n",
    "for node, left, right in postorder_indices:\n",
    "    operations.append(BeagleOperation(node, BEAGLE_OP_NONE,\n",
    "                            BEAGLE_OP_NONE, left, left, right, right))\n",
    "update_partials(\n",
    "            instance,\n",
    "            operations,\n",
    "            BEAGLE_OP_NONE)\n",
    "\n",
    "log_prob_beagle = np.empty(1)\n",
    "returnCode = calculate_root_log_likelihoods(\n",
    "        instance,  # instance\n",
    "        postorder_indices[-1][:1],  # bufferIndices\n",
    "        [0],  # weights\n",
    "        [0],  # stateFrequencies\n",
    "        [BEAGLE_OP_NONE],  # cumulative scaling index\n",
    "        1,  # count\n",
    "        log_prob_beagle)"
   ]
  },
  {
   "cell_type": "code",
   "execution_count": 10,
   "metadata": {},
   "outputs": [
    {
     "name": "stdout",
     "output_type": "stream",
     "text": [
      "BEAGLE log prob: -89307.32684001215\n",
      "NUMPY  log prob: -89307.32684001184\n"
     ]
    }
   ],
   "source": [
    "print('BEAGLE log prob:', log_prob_beagle[0])\n",
    "print('NUMPY  log prob:', log_prob_numpy)"
   ]
  },
  {
   "cell_type": "code",
   "execution_count": 11,
   "metadata": {},
   "outputs": [],
   "source": [
    "finalize_instance(instance);"
   ]
  }
 ],
 "metadata": {
  "kernelspec": {
   "display_name": "Python 3",
   "language": "python",
   "name": "python3"
  },
  "language_info": {
   "codemirror_mode": {
    "name": "ipython",
    "version": 3
   },
   "file_extension": ".py",
   "mimetype": "text/x-python",
   "name": "python",
   "nbconvert_exporter": "python",
   "pygments_lexer": "ipython3",
   "version": "3.7.1"
  }
 },
 "nbformat": 4,
 "nbformat_minor": 1
}
